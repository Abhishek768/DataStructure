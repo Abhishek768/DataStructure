{
 "cells": [
  {
   "cell_type": "code",
   "execution_count": 1,
   "metadata": {},
   "outputs": [],
   "source": [
    "def flatten_list(arr):\n",
    "    flat_list = []\n",
    "    for i in arr:\n",
    "        if type(i) == list:\n",
    "            for j in i:\n",
    "                flat_list.append(j)\n",
    "        else:\n",
    "            flat_list.append(i)\n",
    "    return(flat_list)"
   ]
  },
  {
   "cell_type": "code",
   "execution_count": 2,
   "metadata": {},
   "outputs": [
    {
     "name": "stdout",
     "output_type": "stream",
     "text": [
      "[1, 2, 3, 2, 4, 5, 7, 8, 9]\n"
     ]
    }
   ],
   "source": [
    "arr = [[1,2,3], 2, [4,5], [7], 8, 9]\n",
    "print(flatten_list(arr))"
   ]
  }
 ],
 "metadata": {
  "kernelspec": {
   "display_name": "Python 3",
   "language": "python",
   "name": "python3"
  },
  "language_info": {
   "codemirror_mode": {
    "name": "ipython",
    "version": 3
   },
   "file_extension": ".py",
   "mimetype": "text/x-python",
   "name": "python",
   "nbconvert_exporter": "python",
   "pygments_lexer": "ipython3",
   "version": "3.8.2"
  }
 },
 "nbformat": 4,
 "nbformat_minor": 4
}
