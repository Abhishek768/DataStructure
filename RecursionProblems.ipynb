{
 "cells": [
  {
   "cell_type": "markdown",
   "metadata": {},
   "source": [
    "## Recursion"
   ]
  },
  {
   "cell_type": "markdown",
   "metadata": {},
   "source": [
    "## A function call itself is called recursive function. It is divided into two parts:-\n",
    "## a) Recursive part\n",
    "## b) Base part or termination point"
   ]
  },
  {
   "cell_type": "markdown",
   "metadata": {},
   "source": [
    "# Program 1 \n",
    "## Factorial Program"
   ]
  },
  {
   "cell_type": "code",
   "execution_count": 1,
   "metadata": {},
   "outputs": [],
   "source": [
    "def find_factorial(n):\n",
    "    if n == 1:\n",
    "        return 1\n",
    "    else:\n",
    "        return n * find_factorial(n-1)"
   ]
  },
  {
   "cell_type": "code",
   "execution_count": 4,
   "metadata": {},
   "outputs": [
    {
     "name": "stdout",
     "output_type": "stream",
     "text": [
      "Enter digit: 7\n",
      "Factorial of 7: 5040\n"
     ]
    }
   ],
   "source": [
    "number = int(input(\"Enter digit: \"))\n",
    "result = find_factorial(number)\n",
    "print(\"Factorial of {}: {}\".format(number, result))"
   ]
  },
  {
   "cell_type": "markdown",
   "metadata": {},
   "source": [
    "# Program 2\n",
    "## Binary Search"
   ]
  },
  {
   "cell_type": "code",
   "execution_count": 24,
   "metadata": {},
   "outputs": [],
   "source": [
    "def find_element(arr, elem, first_index, last_index):\n",
    "    if first_index <= last_index:\n",
    "        mid_value = int((first_index + last_index)/2)\n",
    "        if elem == arr[mid_value]:\n",
    "            return mid_value\n",
    "        elif elem < arr[mid_value]:\n",
    "            return find_element(arr, elem, 0, mid_value - 1)\n",
    "        else:\n",
    "            return find_element(arr, elem, mid_value + 1, last_index)\n",
    "    else:\n",
    "        return -1"
   ]
  },
  {
   "cell_type": "code",
   "execution_count": 29,
   "metadata": {},
   "outputs": [
    {
     "name": "stdout",
     "output_type": "stream",
     "text": [
      "Enter digit to find: 6\n",
      "Element 6 Found at index: 4\n"
     ]
    }
   ],
   "source": [
    "arr = [5,1,2,7,6]\n",
    "arr.sort()\n",
    "element = int(input(\"Enter digit to find: \"))\n",
    "result = find_element(arr, element, 0, len(arr)-1)\n",
    "if result != -1:\n",
    "    print(\"Element {} Found at index: {}\".format(element, result+1))\n",
    "else:\n",
    "    print(\"{} not found in the array\".format(element))"
   ]
  },
  {
   "cell_type": "markdown",
   "metadata": {},
   "source": [
    "## Time complexity of binary search algorithm is O(logn)"
   ]
  }
 ],
 "metadata": {
  "kernelspec": {
   "display_name": "Python 3",
   "language": "python",
   "name": "python3"
  },
  "language_info": {
   "codemirror_mode": {
    "name": "ipython",
    "version": 3
   },
   "file_extension": ".py",
   "mimetype": "text/x-python",
   "name": "python",
   "nbconvert_exporter": "python",
   "pygments_lexer": "ipython3",
   "version": "3.8.2"
  }
 },
 "nbformat": 4,
 "nbformat_minor": 4
}
