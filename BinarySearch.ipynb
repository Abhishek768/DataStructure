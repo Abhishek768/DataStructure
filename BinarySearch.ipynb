{
 "cells": [
  {
   "cell_type": "markdown",
   "metadata": {},
   "source": [
    "Binary search algorithm works on the principle of divide and conquer. To work properly with this alogrihtm, array or list should be in sorted order. Time Complexity of the algorithm is O(log(n))\n",
    "Algorithm: -\n",
    "\n",
    "-> First, sort the array or list $$ $$\n",
    "-> Meanwhile, find the middle point of the array. $$ $$\n",
    "-> Compare your elemnet(x) with the middle element. $$ $$\n",
    "-> If  element(x) matches with middle element, we return the mid index.$$ $$\n",
    "-> Else If element(x) is greater than the mid element, then x can only lie in right half subarray after the mid element. So we recur for right half.$$ $$\n",
    "-> Else (x is smaller) recur for the left half."
   ]
  },
  {
   "cell_type": "code",
   "execution_count": 1,
   "metadata": {},
   "outputs": [],
   "source": [
    "def binary_search(arry, first_index, last_index, elem):\n",
    "    if (first_index <= last_index):\n",
    "        mid_index = (first_index + last_index)//2\n",
    "        if elem == arry[mid_index]:\n",
    "            return(mid_index)\n",
    "        elif elem > arry[mid_index]:\n",
    "            return binary_search(arry, mid_index + 1, last_index, elem)\n",
    "        else:\n",
    "            return binary_search(arry, first_index, mid_index - 1 , elem)\n",
    "    else:\n",
    "        return -1"
   ]
  },
  {
   "cell_type": "code",
   "execution_count": 2,
   "metadata": {},
   "outputs": [
    {
     "name": "stdout",
     "output_type": "stream",
     "text": [
      "Enter the element to search: 7\n",
      "Element Found at 6\n"
     ]
    }
   ],
   "source": [
    "arry = [2,3,1,7,6,5]\n",
    "arry.sort()\n",
    "element = int(input('Enter the element to search: '))\n",
    "result = binary_search(arry, 0, len(arry)-1, element)\n",
    "if  result != -1:\n",
    "    print(\"Element Found at {}\".format(result + 1))\n",
    "else:\n",
    "    print(\"Element Not Found\")"
   ]
  },
  {
   "cell_type": "markdown",
   "metadata": {},
   "source": [
    "## Time complexity of Binary Search is O(logn)"
   ]
  }
 ],
 "metadata": {
  "kernelspec": {
   "display_name": "Python 3",
   "language": "python",
   "name": "python3"
  },
  "language_info": {
   "codemirror_mode": {
    "name": "ipython",
    "version": 3
   },
   "file_extension": ".py",
   "mimetype": "text/x-python",
   "name": "python",
   "nbconvert_exporter": "python",
   "pygments_lexer": "ipython3",
   "version": "3.8.2"
  }
 },
 "nbformat": 4,
 "nbformat_minor": 4
}
